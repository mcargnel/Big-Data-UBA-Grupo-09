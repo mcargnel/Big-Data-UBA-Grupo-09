{
 "cells": [
  {
   "cell_type": "markdown",
   "id": "a75a5691",
   "metadata": {},
   "source": [
    "---\n",
    "title: TRABAJO PRÁCTICO N° 2\n",
    "subtitle: Histogramas, Kernels & Métodos no supervisados usando la EPH\n",
    "author: Ricardo Javier Gutiérrez Vistín - Martín Gabriel Cargnel\n",
    "date-format: \"MMM, YYYY\"\n",
    "lang: es\n",
    "execute:\n",
    "  echo: true\n",
    "  include: false\n",
    "  fig-align: center\n",
    "format:\n",
    "  pdf:\n",
    "    documentclass: scrartcl\n",
    "    toc-depth: 2\n",
    "    number-sections: true\n",
    "---"
   ]
  },
  {
   "cell_type": "code",
   "execution_count": null,
   "id": "6bc7562b",
   "metadata": {},
   "outputs": [],
   "source": [
    "import pandas as pd\n",
    "import numpy as np\n",
    "import matplotlib.pyplot as plt\n",
    "import os\n",
    "import seaborn as sns"
   ]
  },
  {
   "cell_type": "markdown",
   "id": "ac5cb1f7",
   "metadata": {},
   "source": [
    "Link al repositorio: https://github.com/mcargnel/Big-Data-UBA-Grupo-001/tree/main/TP1"
   ]
  },
  {
   "cell_type": "markdown",
   "id": "708adf5b",
   "metadata": {},
   "source": [
    "# Creación de variables, histogramas, kernels y resumen de la base de datos final"
   ]
  },
  {
   "cell_type": "code",
   "execution_count": 25,
   "id": "486ea4f7",
   "metadata": {},
   "outputs": [],
   "source": [
    "#df_usu_hogar = pd.read_excel('data/usu_hogar_T125.xlsx')\n",
    "df_individual_t105 = pd.read_stata('data/Individual_t105.dta')\n",
    "df_individual_t125 = pd.read_excel('data/usu_individual_T125.xlsx')"
   ]
  },
  {
   "cell_type": "code",
   "execution_count": null,
   "id": "fcc77dae",
   "metadata": {},
   "outputs": [
    {
     "data": {
      "text/plain": [
       "(16665, 243)"
      ]
     },
     "execution_count": 26,
     "metadata": {},
     "output_type": "execute_result"
    }
   ],
   "source": [
    "df_individual_t125.columns = df_individual_t125.columns.str.lower()\n",
    "df_individual_t105.columns = df_individual_t105.columns.str.lower()\n",
    "df_individual_t105_filt = df_individual_t105[df_individual_t105['region'] == 'Gran Buenos Aires']\n",
    "\n",
    "df_individual_t125_filt = df_individual_t125[df_individual_t125['region'] == 1]\n",
    "\n",
    "df_total = pd.concat([df_individual_t105_filt, df_individual_t125_filt])\n",
    "\n",
    "df_total.shape"
   ]
  },
  {
   "cell_type": "code",
   "execution_count": 27,
   "id": "0f9d632f",
   "metadata": {},
   "outputs": [
    {
     "data": {
      "text/plain": [
       "18"
      ]
     },
     "execution_count": 27,
     "metadata": {},
     "output_type": "execute_result"
    }
   ],
   "source": [
    "variables_identificatorias = ['CODUSU', 'nro_hogar', 'componente']\n",
    "\n",
    "variables_dadas = ['CH04', 'CH06', 'CH07', 'CH08', 'NIVEL_ED', 'ESTADO', 'CAT_INAC', 'IPCF']\n",
    "\n",
    "variables_elegidas = ['PP04A', 'PP05B2_ANO', 'pp07c','pp07g_59','ITF','pp07j','PP11O']\n",
    "\n",
    "total_variables = variables_identificatorias + variables_dadas + variables_elegidas\n",
    "total_variables = [i.lower() for i in total_variables]\n",
    "len(total_variables)"
   ]
  },
  {
   "cell_type": "code",
   "execution_count": 28,
   "id": "4b2138a2",
   "metadata": {},
   "outputs": [],
   "source": [
    "df_total = df_total[['ano4']+total_variables]"
   ]
  },
  {
   "cell_type": "code",
   "execution_count": 29,
   "id": "f3c4eeb6",
   "metadata": {},
   "outputs": [],
   "source": [
    "df_total['ch04'] = df_total['ch04'].replace({1: 'Varón', 2: 'Mujer'})"
   ]
  },
  {
   "cell_type": "code",
   "execution_count": 41,
   "id": "43e37c90",
   "metadata": {},
   "outputs": [],
   "source": [
    "df_total['ch06'] = df_total['ch06'].replace({'Menos de 1 año': 0})\n",
    "df_total['ch06'] = df_total['ch06'].astype(int) \n",
    "df_total = df_total.loc[df_total['ch06'] >= 0]"
   ]
  },
  {
   "cell_type": "code",
   "execution_count": 43,
   "id": "325fc37f",
   "metadata": {},
   "outputs": [],
   "source": [
    "df_total['ch07'] = df_total['ch07'].replace({1: 'Unido', 2: 'Casado', 3: 'Separado o divorciado',\n",
    "                                             4: 'Viudo', 5:'Soltero'})"
   ]
  },
  {
   "cell_type": "code",
   "execution_count": 44,
   "id": "b3ea45b5",
   "metadata": {},
   "outputs": [],
   "source": [
    "df_total['ch08'] = df_total['ch08'].replace({1.0: 'Obra social (incluye PAMI)',\n",
    "                                             2.0: 'Mutual/Prepaga/Servicio de emergencia',\n",
    "                                             3.0: 'Planes y seguros públicos',\n",
    "                                             4.0: 'No paga ni le descuentan',\n",
    "                                             9.0: 'Ns./Nr.',\n",
    "                                             12.0: 'Obra social y mutual/prepaga/servicio de emergencia',\n",
    "                                             123.0: 'Obra social y planes y seguros públicos'\n",
    "                                             })"
   ]
  },
  {
   "cell_type": "code",
   "execution_count": 45,
   "id": "a84d5d46",
   "metadata": {},
   "outputs": [],
   "source": [
    "df_total['nivel_ed'] = df_total['nivel_ed'].replace({1: 'Primaria Incompleta (incluye educación especial)',\n",
    "                                                    2: 'Primaria Completa',\n",
    "                                                    3: 'Secundaria Incompleta',\n",
    "                                                    4: 'Secundaria Completa',\n",
    "                                                    5:'Superior Universitaria Incompleta',\n",
    "                                                    6:'Superior Universitaria Completa',\n",
    "                                                    7:'Sin instrucción'})"
   ]
  },
  {
   "cell_type": "code",
   "execution_count": 46,
   "id": "540497bb",
   "metadata": {},
   "outputs": [],
   "source": [
    "df_total['estado'] = df_total['estado'].replace({1: 'Ocupado',\n",
    "                                                    2: 'Desocupado',\n",
    "                                                    3: 'Inactivo',\n",
    "                                                    4: 'Menor de 10 años',\n",
    "                                                    0:'Entrevista individual no realizada (no respuesta al cuestion'\n",
    "                                                    })"
   ]
  },
  {
   "cell_type": "code",
   "execution_count": 47,
   "id": "2e35123e",
   "metadata": {},
   "outputs": [],
   "source": [
    "df_total['cat_inac'] = df_total['cat_inac'].replace({1: 'Jubilado/pensionado',\n",
    "                                                    2: 'Rentista',\n",
    "                                                    3: 'Estudiante',\n",
    "                                                    4: 'Ama de casa',\n",
    "                                                    5: 'Menor de 6 años',\n",
    "                                                    6: 'Discapacitado',\n",
    "                                                    7: 'Otros'\n",
    "                                                    })"
   ]
  },
  {
   "cell_type": "code",
   "execution_count": 52,
   "id": "d8d856d2",
   "metadata": {},
   "outputs": [],
   "source": [
    "df_total['pp04a'] = df_total['pp04a'].replace({1.0: 'Estatal',\n",
    "                                               '...estatal?': 'Estatal',\n",
    "                                                    2.0: 'Privada?',\n",
    "                                                    '...privada?':'Privada',\n",
    "                                                    3.0: 'Otro',\n",
    "                                                    '...de otro tipo? (especificar)': 'Otro'\n",
    "                                                    })"
   ]
  },
  {
   "cell_type": "code",
   "execution_count": 53,
   "id": "fa8d896d",
   "metadata": {},
   "outputs": [],
   "source": [
    "df_total['pp07c'] = df_total['pp07c'].replace({1.0: 'Sí (incluye changa, trabajo transitorio, por tarea u obra, s',\n",
    "                                               2.0: 'No (Incluye permanente, fijo, estable, de planta)',\n",
    "                                               9.0: 'Ns./Nr.'\n",
    "                                                })"
   ]
  },
  {
   "cell_type": "code",
   "execution_count": 54,
   "id": "52dd1511",
   "metadata": {},
   "outputs": [],
   "source": [
    "df_total['pp07j'] = df_total['pp07j'].replace({1.0: 'Dia',\n",
    "                                               2.0: 'Noche',\n",
    "                                               3.0:'Otros',\n",
    "                                               '...de día? (mañana/tarde)': 'Dia',\n",
    "                                               '...de noche':'Noche',\n",
    "                                               '...de otro tipo? (rotativo, día y noche, guardias con franco':'Otros'\n",
    "                                                                                                        })"
   ]
  },
  {
   "cell_type": "code",
   "execution_count": 55,
   "id": "7fad1568",
   "metadata": {},
   "outputs": [],
   "source": [
    "df_total['pp11o'] = df_total['pp11o'].replace({1.0: 'Despido/cierre',\n",
    "                                               2.0: 'Por retiro voluntario del sector público',\n",
    "                                               3.0:'Jubilación',\n",
    "                                               4.0:'Fin del trabajo temporario/estacional',\n",
    "                                               5.0:'Le pagaban poco/no le pagaban',\n",
    "                                               6.0:'Malas relaciones laborales/malas condiciones de trabajo (ins',\n",
    "                                               7:'Renuncia obligada/pactada',\n",
    "                                               8.0: 'Otro',\n",
    "                                               9:'Por razones personales'\n",
    "                                                })"
   ]
  },
  {
   "cell_type": "code",
   "execution_count": 113,
   "id": "20987de4",
   "metadata": {},
   "outputs": [],
   "source": [
    "df_tabla_adulto = pd.read_excel('/Users/mcargnel/Documents/mea/Big-Data-UBA-Grupo-001/TP1/data/tabla_adulto_equiv.xlsx', skiprows=3)\n",
    "df_tabla_adulto.dropna(inplace=True)\n",
    "df_tabla_adulto['Edad'] = df_tabla_adulto['Edad'].str.replace(' años', '').replace('año', '')"
   ]
  },
  {
   "cell_type": "code",
   "execution_count": 114,
   "id": "960ccec8",
   "metadata": {},
   "outputs": [],
   "source": [
    "rangos = [col for col in df_tabla_adulto['Edad'] if ' a ' in col]\n",
    "tabla_rangos = df_tabla_adulto[df_tabla_adulto['Edad'].isin(rangos)]\n",
    "\n",
    "rangos_expandidos = []\n",
    "\n",
    "for _, row in tabla_rangos.iterrows():\n",
    "    start, end = map(int, row[\"Edad\"].split(\" a \"))\n",
    "    for age in range(start, end + 1):\n",
    "        rangos_expandidos.append({\n",
    "            \"Edad\": age,\n",
    "            \"Mujeres\": row[\"Mujeres\"],\n",
    "            \"Varones\": row[\"Varones\"]\n",
    "        })\n",
    "\n",
    "last_row = tabla_rangos.iloc[-1]\n",
    "for age in range(76, 101):\n",
    "    rangos_expandidos.append({\n",
    "        \"Edad\": age,\n",
    "        \"Mujeres\": last_row[\"Mujeres\"],\n",
    "        \"Varones\": last_row[\"Varones\"]\n",
    "    })\n",
    "\n",
    "rangos_expandidos_df = pd.DataFrame(rangos_expandidos)"
   ]
  },
  {
   "cell_type": "code",
   "execution_count": 115,
   "id": "1592f6b3",
   "metadata": {},
   "outputs": [],
   "source": [
    "df_tabla_adulto = pd.concat([df_tabla_adulto,rangos_expandidos_df])"
   ]
  },
  {
   "cell_type": "code",
   "execution_count": 118,
   "id": "592dddb4",
   "metadata": {},
   "outputs": [
    {
     "name": "stderr",
     "output_type": "stream",
     "text": [
      "/var/folders/c6/f1ghz9qx1bbb4_2pszbddg800000gn/T/ipykernel_11434/4118338592.py:2: SettingWithCopyWarning: \n",
      "A value is trying to be set on a copy of a slice from a DataFrame.\n",
      "Try using .loc[row_indexer,col_indexer] = value instead\n",
      "\n",
      "See the caveats in the documentation: https://pandas.pydata.org/pandas-docs/stable/user_guide/indexing.html#returning-a-view-versus-a-copy\n",
      "  df_tabla_adulto['Edad'] = df_tabla_adulto['Edad'].replace({'1año':1, 'Menor de 1 año': 0})\n",
      "/var/folders/c6/f1ghz9qx1bbb4_2pszbddg800000gn/T/ipykernel_11434/4118338592.py:3: SettingWithCopyWarning: \n",
      "A value is trying to be set on a copy of a slice from a DataFrame.\n",
      "Try using .loc[row_indexer,col_indexer] = value instead\n",
      "\n",
      "See the caveats in the documentation: https://pandas.pydata.org/pandas-docs/stable/user_guide/indexing.html#returning-a-view-versus-a-copy\n",
      "  df_tabla_adulto['Edad'] = df_tabla_adulto['Edad'].astype(int)\n"
     ]
    }
   ],
   "source": [
    "df_tabla_adulto = df_tabla_adulto[~df_tabla_adulto['Edad'].isin(rangos +['más de 75'])]\n",
    "df_tabla_adulto['Edad'] = df_tabla_adulto['Edad'].replace({'1año':1, 'Menor de 1 año': 0})\n",
    "df_tabla_adulto['Edad'] = df_tabla_adulto['Edad'].astype(int)"
   ]
  },
  {
   "cell_type": "code",
   "execution_count": 119,
   "id": "0fd6db47",
   "metadata": {},
   "outputs": [],
   "source": [
    "df_tabla_adulto = df_tabla_adulto.melt(\n",
    "    id_vars=['Edad'],\n",
    "    value_vars=['Mujeres', 'Varones'],\n",
    "    value_name='adulto_equiv',\n",
    "    var_name='ch04'\n",
    ")"
   ]
  },
  {
   "cell_type": "code",
   "execution_count": 120,
   "id": "54b2ab2a",
   "metadata": {},
   "outputs": [],
   "source": [
    "df_tabla_adulto['ch04'] = df_tabla_adulto['ch04'].replace({'Mujeres': 'Mujer', 'Varones':'Varón'})\n",
    "df_tabla_adulto.columns = ['ch06', 'ch04', 'adulto_equiv']"
   ]
  },
  {
   "cell_type": "code",
   "execution_count": 121,
   "id": "fdf7fe86",
   "metadata": {},
   "outputs": [],
   "source": [
    "df_total = df_total.merge(df_tabla_adulto, on=['ch06', 'ch04'], how='left')"
   ]
  },
  {
   "cell_type": "code",
   "execution_count": 93,
   "id": "24f94d6e",
   "metadata": {},
   "outputs": [],
   "source": [
    "df_total[\"ad_equiv_hogar\"] = (\n",
    "    df_total.groupby([\"codusu\", \"nro_hogar\"])[\"adulto_equiv\"]\n",
    "      .transform(\"sum\")\n",
    ")"
   ]
  },
  {
   "cell_type": "code",
   "execution_count": null,
   "id": "40dfec91",
   "metadata": {},
   "outputs": [
    {
     "data": {
      "text/plain": [
       "ano4\n",
       "2025.0    2857\n",
       "2005.0     113\n",
       "Name: count, dtype: int64"
      ]
     },
     "execution_count": 143,
     "metadata": {},
     "output_type": "execute_result"
    }
   ],
   "source": [
    "# respondieron itf\n",
    "\n",
    "respondieron = df_total[df_total['itf'] != 0]\n",
    "\n",
    "# no respondieron itf\n",
    "norespondieron = df_total[df_total['itf'] == 0]\n",
    "norespondieron['ano4'].value_counts()"
   ]
  },
  {
   "cell_type": "code",
   "execution_count": 145,
   "id": "4f2f43d2",
   "metadata": {},
   "outputs": [
    {
     "name": "stderr",
     "output_type": "stream",
     "text": [
      "/var/folders/c6/f1ghz9qx1bbb4_2pszbddg800000gn/T/ipykernel_11434/2959864343.py:1: SettingWithCopyWarning: \n",
      "A value is trying to be set on a copy of a slice from a DataFrame.\n",
      "Try using .loc[row_indexer,col_indexer] = value instead\n",
      "\n",
      "See the caveats in the documentation: https://pandas.pydata.org/pandas-docs/stable/user_guide/indexing.html#returning-a-view-versus-a-copy\n",
      "  respondieron['ingreso_necesario'] = np.where(respondieron['ano4'] == 2005.0, respondieron['ad_equiv_hogar'] * 205.07,respondieron['ad_equiv_hogar'] * 365177)\n"
     ]
    }
   ],
   "source": [
    "respondieron['ingreso_necesario'] = np.where(respondieron['ano4'] == 2005.0, respondieron['ad_equiv_hogar'] * 205.07,respondieron['ad_equiv_hogar'] * 365177)  "
   ]
  },
  {
   "cell_type": "code",
   "execution_count": 146,
   "id": "2bbecabe",
   "metadata": {},
   "outputs": [
    {
     "name": "stderr",
     "output_type": "stream",
     "text": [
      "/var/folders/c6/f1ghz9qx1bbb4_2pszbddg800000gn/T/ipykernel_11434/1349639960.py:1: SettingWithCopyWarning: \n",
      "A value is trying to be set on a copy of a slice from a DataFrame.\n",
      "Try using .loc[row_indexer,col_indexer] = value instead\n",
      "\n",
      "See the caveats in the documentation: https://pandas.pydata.org/pandas-docs/stable/user_guide/indexing.html#returning-a-view-versus-a-copy\n",
      "  respondieron['pobre'] = np.where(respondieron['itf'] <respondieron['ingreso_necesario'] , 1, 0)\n"
     ]
    }
   ],
   "source": [
    "respondieron['pobre'] = np.where(respondieron['itf'] <respondieron['ingreso_necesario'] , 1, 0)"
   ]
  },
  {
   "cell_type": "code",
   "execution_count": 148,
   "id": "cd37f43f",
   "metadata": {},
   "outputs": [
    {
     "data": {
      "text/html": [
       "<div>\n",
       "<style scoped>\n",
       "    .dataframe tbody tr th:only-of-type {\n",
       "        vertical-align: middle;\n",
       "    }\n",
       "\n",
       "    .dataframe tbody tr th {\n",
       "        vertical-align: top;\n",
       "    }\n",
       "\n",
       "    .dataframe thead th {\n",
       "        text-align: right;\n",
       "    }\n",
       "</style>\n",
       "<table border=\"1\" class=\"dataframe\">\n",
       "  <thead>\n",
       "    <tr style=\"text-align: right;\">\n",
       "      <th></th>\n",
       "      <th>Año</th>\n",
       "      <th>Pobre</th>\n",
       "      <th>Cantidad</th>\n",
       "      <th>Proporción</th>\n",
       "    </tr>\n",
       "  </thead>\n",
       "  <tbody>\n",
       "    <tr>\n",
       "      <th>0</th>\n",
       "      <td>2005.0</td>\n",
       "      <td>0</td>\n",
       "      <td>6878</td>\n",
       "      <td>0.7340</td>\n",
       "    </tr>\n",
       "    <tr>\n",
       "      <th>2</th>\n",
       "      <td>2005.0</td>\n",
       "      <td>1</td>\n",
       "      <td>2493</td>\n",
       "      <td>0.2660</td>\n",
       "    </tr>\n",
       "    <tr>\n",
       "      <th>1</th>\n",
       "      <td>2025.0</td>\n",
       "      <td>0</td>\n",
       "      <td>2950</td>\n",
       "      <td>0.6889</td>\n",
       "    </tr>\n",
       "    <tr>\n",
       "      <th>3</th>\n",
       "      <td>2025.0</td>\n",
       "      <td>1</td>\n",
       "      <td>1332</td>\n",
       "      <td>0.3111</td>\n",
       "    </tr>\n",
       "  </tbody>\n",
       "</table>\n",
       "</div>"
      ],
      "text/plain": [
       "      Año  Pobre  Cantidad  Proporción\n",
       "0  2005.0      0      6878      0.7340\n",
       "2  2005.0      1      2493      0.2660\n",
       "1  2025.0      0      2950      0.6889\n",
       "3  2025.0      1      1332      0.3111"
      ]
     },
     "execution_count": 148,
     "metadata": {},
     "output_type": "execute_result"
    }
   ],
   "source": [
    "#| label: tab-pobres\n",
    "#| tbl-cap: Tabla con la cantidad y proporción de pobres por año\n",
    "#| echo: false\n",
    "#| include: true\n",
    "\n",
    "pobres_df = respondieron[['ano4','pobre']].value_counts().reset_index().sort_values('ano4')\n",
    "pobres_df['prop'] = round(pobres_df['count'] /pobres_df.groupby('ano4')['count'].transform('sum'), 4)\n",
    "pobres_df.columns = ['Año', 'Pobre', 'Cantidad', 'Proporción']\n",
    "pobres_df"
   ]
  },
  {
   "cell_type": "markdown",
   "id": "0297d791",
   "metadata": {},
   "source": [
    "# Métodos No Supervisados"
   ]
  }
 ],
 "metadata": {
  "kernelspec": {
   "display_name": ".venv",
   "language": "python",
   "name": "python3"
  },
  "language_info": {
   "codemirror_mode": {
    "name": "ipython",
    "version": 3
   },
   "file_extension": ".py",
   "mimetype": "text/x-python",
   "name": "python",
   "nbconvert_exporter": "python",
   "pygments_lexer": "ipython3",
   "version": "3.13.5"
  }
 },
 "nbformat": 4,
 "nbformat_minor": 5
}
