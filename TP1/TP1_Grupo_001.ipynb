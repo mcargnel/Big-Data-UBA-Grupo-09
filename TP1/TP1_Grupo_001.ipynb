{
 "cells": [
  {
   "cell_type": "markdown",
   "id": "a75a5691",
   "metadata": {},
   "source": [
    "---\n",
    "title: TRABAJO PRÁCTICO N° 1\n",
    "subtitle: UN PRIMER ENCUENTRO CON LA EPH\n",
    "abstract: El objetivo familiarización con la base de datos de la Encuesta Permanente de Hogares. Limpieza de datos, valores faltantes y análisis descriptivo. Medición de pobreza.\n",
    "\n",
    "author: Martin Cargnel\n",
    "\n",
    "---"
   ]
  },
  {
   "cell_type": "code",
   "execution_count": 4,
   "id": "6bc7562b",
   "metadata": {},
   "outputs": [],
   "source": [
    "import pandas as pd\n",
    "import numpy as np\n",
    "import matplotlib.pyplot as plt\n",
    "import os"
   ]
  },
  {
   "cell_type": "markdown",
   "id": "708adf5b",
   "metadata": {},
   "source": [
    "# Parte 1: Familiarizandonos con la base EPH y limpieza\n",
    "\n",
    "La Encuesta Permanente de Hogares (EPH) es un programa nacional de producción sistemática y permanente de indicadores sociales que lleva a cabo el Instituto Nacional de Estadística y Censos (INDEC), que permite conocer las características sociodemográficas y socioeconómicas de la población. Uno de los indicadores más valiosos sobre el mercado laboral que pueden obtenerse con los datos de esta encuesta es la tasa de desocupación."
   ]
  },
  {
   "cell_type": "markdown",
   "id": "96d1559c",
   "metadata": {},
   "source": [
    "## Breve introducción a la base\n",
    "\n",
    "Utilizando información disponible en la página del INDEC, expliquen brevemente cómo se identifica a las personas pobres.\n"
   ]
  },
  {
   "cell_type": "markdown",
   "id": "8fbb9bba",
   "metadata": {},
   "source": [
    "## Descargar los datos\n",
    "\n",
    "Entren a la página https://www.indec.gob.ar/ y vayan a la sección Servicios y Herramientas → Bases de datos. Descarguen la base de microdatos de la Encuesta Permanente de Hogares (EPH) correspondiente al primer trimestre de 2005 y 2025 en formato .dta y .xls, respectivamente (una vez descargadas, las bases a usar deberán llamarse usu_individual_T105.dta y usu_individual_T125.xls). En la página web, también encontrará un diccionario de variables con el nombre de “Diseño de registro y estructura para las bases preliminares (hogares y personas)”. Descarguen el diccionario de cada año (los de 2005 y 2025). En estos archivos se les indica qué significa cada variable que aparece en la base de datos, en particular, en la sección de Diseño de registros de la base Personas."
   ]
  },
  {
   "cell_type": "code",
   "execution_count": 181,
   "id": "486ea4f7",
   "metadata": {},
   "outputs": [],
   "source": [
    "#df_usu_hogar = pd.read_excel('data/usu_hogar_T125.xlsx')\n",
    "df_individual_t105 = pd.read_stata('data/Individual_t105.dta')\n",
    "df_individual_t125 = pd.read_excel('data/usu_individual_T125.xlsx')"
   ]
  },
  {
   "cell_type": "markdown",
   "id": "33e4673c",
   "metadata": {},
   "source": [
    "A partir de ahora, cada grupo debe decidir trabajar con una región del país en específico y mantener dicha región en los próximos trabajos prácticos (ver variable REGION). Eliminen los datos de todas aquellas regiones que no se encuentren dentro de su región y unan ambos trimestres (2005 y 2025) en una sola base. "
   ]
  },
  {
   "cell_type": "code",
   "execution_count": 182,
   "id": "fcc77dae",
   "metadata": {},
   "outputs": [],
   "source": [
    "df_individual_t125.columns = df_individual_t125.columns.str.lower()"
   ]
  },
  {
   "cell_type": "code",
   "execution_count": 183,
   "id": "09676297",
   "metadata": {},
   "outputs": [],
   "source": [
    "df_individual_t105_filt = df_individual_t105[df_individual_t105['region'] == 'Gran Buenos Aires']\n",
    "\n",
    "df_individual_t125_filt = df_individual_t125[df_individual_t125['region'] == 41]"
   ]
  },
  {
   "cell_type": "code",
   "execution_count": 184,
   "id": "f7dc8357",
   "metadata": {},
   "outputs": [],
   "source": [
    "df_total = pd.concat([df_individual_t105_filt, df_individual_t125_filt])\n",
    "del df_individual_t125_filt, df_individual_t125, df_individual_t105_filt, df_individual_t105"
   ]
  },
  {
   "cell_type": "markdown",
   "id": "44cd2e0d",
   "metadata": {},
   "source": [
    "Asegúrense de que todas las variables tengan el formato correcto. Seleccione 15 variables de interés (entre las cuales tienen que estar: CH04, CH06, CH07, CH08, NIVEL ED, ESTADO, CAT_INAC, IPCF) y reporten en una figura de heatmap la cantidad de valores faltantes para cada año (NA, o NaN en Python) en una tabla por cada año. Comenten qué variables de las 15 que seleccionaron tienen más valores faltantes y qué año."
   ]
  },
  {
   "cell_type": "code",
   "execution_count": 185,
   "id": "0f9d632f",
   "metadata": {},
   "outputs": [
    {
     "data": {
      "text/plain": [
       "15"
      ]
     },
     "execution_count": 185,
     "metadata": {},
     "output_type": "execute_result"
    }
   ],
   "source": [
    "variables_dadas = ['CH04', 'CH06', 'CH07', 'CH08', 'NIVEL_ED', 'ESTADO', 'CAT_INAC', 'IPCF']\n",
    "\n",
    "variables_elegidas = ['PP04A', 'PP05B2_ANO', 'pp07c','pp07g_59','PP07F4','pp07j','T_VI']\n",
    "\n",
    "total_variables = variables_dadas + variables_elegidas\n",
    "total_variables = [i.lower() for i in total_variables]\n",
    "len(total_variables)"
   ]
  },
  {
   "cell_type": "code",
   "execution_count": 186,
   "id": "4b2138a2",
   "metadata": {},
   "outputs": [],
   "source": [
    "df_total = df_total[['ano4']+total_variables]"
   ]
  },
  {
   "cell_type": "markdown",
   "id": "df9e254e",
   "metadata": {},
   "source": [
    "| Variable              | Descripción breve                                      |\n",
    "|-----------------------|-------------------------------------------------------|\n",
    "| ch04                  | Sexo                                                  |\n",
    "| ch06                  | Edad                                                  |\n",
    "| ch07                  | Estado civil                                          |\n",
    "| ch08                  | Cobertura de salud                                    |\n",
    "| nivel_ed              | Nivel educativo alcanzado                             |\n",
    "| estado                | Condición de actividad                                |\n",
    "| cat_inac              | Categoría de inactividad                             |\n",
    "| ipcf                  | Ingreso per cápita familiar                           |\n",
    "| pp04a                 | Rama de actividad principal                           |\n",
    "| pp05b2_ano            | Años de antigüedad en la ocupación                    |\n",
    "| pp07c                 | Empleo con fecha de finalización                                       |\n",
    "| pp07g_59              | No tiene Vacaciones pagas, aguinaldo, dias pagos por enfermedad, obra social.                                    |\n",
    "| PP07F4                   | No recibe ningun beneficio en el trabajo (vivienda, comida, etc.)                                |\n",
    "|pp07j | Turno de trabajo |\n",
    "| T_VI | Monto total de ingresos no laborables |"
   ]
  },
  {
   "cell_type": "code",
   "execution_count": 187,
   "id": "c4ca7819",
   "metadata": {},
   "outputs": [
    {
     "name": "stdout",
     "output_type": "stream",
     "text": [
      "<class 'pandas.core.frame.DataFrame'>\n",
      "Index: 14230 entries, 0 to 45413\n",
      "Data columns (total 16 columns):\n",
      " #   Column      Non-Null Count  Dtype  \n",
      "---  ------      --------------  -----  \n",
      " 0   ano4        14230 non-null  float64\n",
      " 1   ch04        14230 non-null  object \n",
      " 2   ch06        14230 non-null  object \n",
      " 3   ch07        14230 non-null  object \n",
      " 4   ch08        14230 non-null  object \n",
      " 5   nivel_ed    14230 non-null  object \n",
      " 6   estado      14230 non-null  object \n",
      " 7   cat_inac    14230 non-null  object \n",
      " 8   ipcf        14230 non-null  float64\n",
      " 9   pp04a       11415 non-null  object \n",
      " 10  pp05b2_ano  11415 non-null  float64\n",
      " 11  pp07c       11415 non-null  object \n",
      " 12  pp07g_59    11415 non-null  object \n",
      " 13  pp07f4      11415 non-null  object \n",
      " 14  pp07j       11415 non-null  object \n",
      " 15  t_vi        14230 non-null  float64\n",
      "dtypes: float64(4), object(12)\n",
      "memory usage: 1.8+ MB\n"
     ]
    }
   ],
   "source": [
    "df_total.info()"
   ]
  },
  {
   "cell_type": "code",
   "execution_count": 188,
   "id": "71be1330",
   "metadata": {},
   "outputs": [
    {
     "data": {
      "text/html": [
       "<div>\n",
       "<style scoped>\n",
       "    .dataframe tbody tr th:only-of-type {\n",
       "        vertical-align: middle;\n",
       "    }\n",
       "\n",
       "    .dataframe tbody tr th {\n",
       "        vertical-align: top;\n",
       "    }\n",
       "\n",
       "    .dataframe thead th {\n",
       "        text-align: right;\n",
       "    }\n",
       "</style>\n",
       "<table border=\"1\" class=\"dataframe\">\n",
       "  <thead>\n",
       "    <tr style=\"text-align: right;\">\n",
       "      <th></th>\n",
       "      <th>ch04</th>\n",
       "      <th>ch06</th>\n",
       "      <th>ch07</th>\n",
       "      <th>ch08</th>\n",
       "      <th>nivel_ed</th>\n",
       "      <th>estado</th>\n",
       "      <th>cat_inac</th>\n",
       "      <th>ipcf</th>\n",
       "      <th>pp04a</th>\n",
       "      <th>pp05b2_ano</th>\n",
       "      <th>pp07c</th>\n",
       "      <th>pp07g_59</th>\n",
       "      <th>pp07f4</th>\n",
       "      <th>pp07j</th>\n",
       "      <th>t_vi</th>\n",
       "    </tr>\n",
       "    <tr>\n",
       "      <th>ano4</th>\n",
       "      <th></th>\n",
       "      <th></th>\n",
       "      <th></th>\n",
       "      <th></th>\n",
       "      <th></th>\n",
       "      <th></th>\n",
       "      <th></th>\n",
       "      <th></th>\n",
       "      <th></th>\n",
       "      <th></th>\n",
       "      <th></th>\n",
       "      <th></th>\n",
       "      <th></th>\n",
       "      <th></th>\n",
       "      <th></th>\n",
       "    </tr>\n",
       "  </thead>\n",
       "  <tbody>\n",
       "    <tr>\n",
       "      <th>2005.0</th>\n",
       "      <td>0</td>\n",
       "      <td>0</td>\n",
       "      <td>0</td>\n",
       "      <td>0</td>\n",
       "      <td>0</td>\n",
       "      <td>0</td>\n",
       "      <td>0</td>\n",
       "      <td>0</td>\n",
       "      <td>0</td>\n",
       "      <td>0</td>\n",
       "      <td>0</td>\n",
       "      <td>0</td>\n",
       "      <td>0</td>\n",
       "      <td>0</td>\n",
       "      <td>0</td>\n",
       "    </tr>\n",
       "    <tr>\n",
       "      <th>2025.0</th>\n",
       "      <td>0</td>\n",
       "      <td>0</td>\n",
       "      <td>0</td>\n",
       "      <td>0</td>\n",
       "      <td>0</td>\n",
       "      <td>0</td>\n",
       "      <td>0</td>\n",
       "      <td>0</td>\n",
       "      <td>2815</td>\n",
       "      <td>2815</td>\n",
       "      <td>2815</td>\n",
       "      <td>2815</td>\n",
       "      <td>2815</td>\n",
       "      <td>2815</td>\n",
       "      <td>0</td>\n",
       "    </tr>\n",
       "  </tbody>\n",
       "</table>\n",
       "</div>"
      ],
      "text/plain": [
       "        ch04  ch06  ch07  ch08  nivel_ed  estado  cat_inac  ipcf  pp04a  \\\n",
       "ano4                                                                      \n",
       "2005.0     0     0     0     0         0       0         0     0      0   \n",
       "2025.0     0     0     0     0         0       0         0     0   2815   \n",
       "\n",
       "        pp05b2_ano  pp07c  pp07g_59  pp07f4  pp07j  t_vi  \n",
       "ano4                                                      \n",
       "2005.0           0      0         0       0      0     0  \n",
       "2025.0        2815   2815      2815    2815   2815     0  "
      ]
     },
     "execution_count": 188,
     "metadata": {},
     "output_type": "execute_result"
    }
   ],
   "source": [
    "df_total.groupby('ano4').apply(lambda x: x.isna().sum(), include_groups=False)"
   ]
  },
  {
   "cell_type": "markdown",
   "id": "381294e7",
   "metadata": {},
   "source": [
    "Corregir variables si notan valores sin sentido (como ingresos negativos) de acuerdo a la documentación de la EPH (puede ser una codificación de no respuesta de los individuos) y eliminen estos valores extraños de sus 15 variables de interés. Comenten brevemente en el reporte dicho proceso de limpieza."
   ]
  },
  {
   "cell_type": "code",
   "execution_count": null,
   "id": "f3c4eeb6",
   "metadata": {},
   "outputs": [],
   "source": [
    "df_total['ch04'] = df_total['ch04'].replace({'1': 'Varón', '2': 'Mujer'})"
   ]
  },
  {
   "cell_type": "code",
   "execution_count": null,
   "id": "79b1c62f",
   "metadata": {},
   "outputs": [],
   "source": [
    "df_total['ch04'] = df_total['ch04'].replace({'1': 'Varón', 1: 'Varón', '2': 'Mujer', 2: 'Mujer'})"
   ]
  },
  {
   "cell_type": "code",
   "execution_count": null,
   "id": "43e37c90",
   "metadata": {},
   "outputs": [],
   "source": [
    "# Set negative or zero ages to 0 \n",
    "df_total = df_total[df_total['ch06'] != 'Menos de 1 año']\n",
    "df_total['ch06'] = df_total['ch06'].astype(int) \n",
    "#df_total = df_total.loc[df_total['ch06'] > 0]"
   ]
  },
  {
   "cell_type": "code",
   "execution_count": null,
   "id": "325fc37f",
   "metadata": {},
   "outputs": [],
   "source": [
    "df_total['ch07'] = df_total['ch07'].replace({'1': 'Unido', '2': 'Casado', '3': 'Separado o divorciado',\n",
    "                                             '4': 'Viudo', '5':'Soltero'})\n",
    "#df_total = df_total[df_total['ch07']!='Ns./Nr.']"
   ]
  },
  {
   "cell_type": "code",
   "execution_count": null,
   "id": "03182714",
   "metadata": {},
   "outputs": [],
   "source": [
    "df_total['ch08'].unique()"
   ]
  },
  {
   "cell_type": "code",
   "execution_count": null,
   "id": "5722c717",
   "metadata": {},
   "outputs": [],
   "source": []
  },
  {
   "cell_type": "code",
   "execution_count": null,
   "id": "4acaf3bc",
   "metadata": {},
   "outputs": [],
   "source": []
  },
  {
   "cell_type": "code",
   "execution_count": null,
   "id": "b3ea45b5",
   "metadata": {},
   "outputs": [],
   "source": []
  },
  {
   "cell_type": "code",
   "execution_count": null,
   "id": "a84d5d46",
   "metadata": {},
   "outputs": [],
   "source": []
  },
  {
   "cell_type": "code",
   "execution_count": null,
   "id": "22bdcf17",
   "metadata": {},
   "outputs": [],
   "source": []
  },
  {
   "cell_type": "code",
   "execution_count": null,
   "id": "540497bb",
   "metadata": {},
   "outputs": [],
   "source": []
  },
  {
   "cell_type": "code",
   "execution_count": 165,
   "id": "978bc5ce",
   "metadata": {},
   "outputs": [
    {
     "name": "stdout",
     "output_type": "stream",
     "text": [
      "<class 'pandas.core.frame.DataFrame'>\n",
      "Index: 14026 entries, 0 to 45413\n",
      "Data columns (total 16 columns):\n",
      " #   Column      Non-Null Count  Dtype  \n",
      "---  ------      --------------  -----  \n",
      " 0   ano4        14026 non-null  float64\n",
      " 1   ch04        14026 non-null  object \n",
      " 2   ch06        14026 non-null  int64  \n",
      " 3   ch07        14026 non-null  object \n",
      " 4   ch08        14019 non-null  object \n",
      " 5   nivel_ed    14026 non-null  object \n",
      " 6   estado      14026 non-null  object \n",
      " 7   cat_inac    14026 non-null  object \n",
      " 8   ipcf        14026 non-null  float64\n",
      " 9   pp04a       11240 non-null  object \n",
      " 10  pp05b2_ano  11249 non-null  float64\n",
      " 11  pp07c       11026 non-null  object \n",
      " 12  pp07g_59    11237 non-null  object \n",
      " 13  pp07f4      11237 non-null  object \n",
      " 14  pp07j       11236 non-null  object \n",
      " 15  t_vi        14026 non-null  float64\n",
      "dtypes: float64(4), int64(1), object(11)\n",
      "memory usage: 1.8+ MB\n"
     ]
    }
   ],
   "source": [
    "df_total_clean.info()"
   ]
  },
  {
   "cell_type": "markdown",
   "id": "4e5d77ca",
   "metadata": {},
   "source": [
    "# Parte II: Primer Análisis Exploratorio"
   ]
  },
  {
   "cell_type": "markdown",
   "id": "1ba7de71",
   "metadata": {},
   "source": [
    "## Realicen un gráfico de barras mostrando la composición por sexo para 2005 y 2025 en su región. Comenten los resultados."
   ]
  },
  {
   "cell_type": "markdown",
   "id": "a0110492",
   "metadata": {},
   "source": [
    "## Matriz correlación\n",
    "\n",
    "Realicen una matriz de correlación para 2005 y 2025 con las siguientes variables: CH04, CH06, CH07, CH08, NIVEL ED, ESTADO, CAT_INAC, IPCF. Crear las variables dicotómicas binarias necesarias (variables dummies) y renombrar dichas variables para que las etiquetas tengan sentido en el gráfico de correlación. Utilicen alguno de los comandos disponibles en este link para graficar la matriz de correlación. Comenten los resultados. \n"
   ]
  },
  {
   "cell_type": "markdown",
   "id": "a77c2a39",
   "metadata": {},
   "source": [
    "# Parte III: Conociendo a los pobres y no pobres \n",
    "\n",
    "Los siguientes incisos apuntan a ver los resultados para su región seleccionada y comparando 2005 con 2025."
   ]
  },
  {
   "cell_type": "markdown",
   "id": "91d8e809",
   "metadata": {},
   "source": [
    "Uno de los grandes problemas de la EPH es la creciente cantidad de hogares que no reportan sus ingresos (ver por ejemplo el siguiente informe). ¿Cuántas personas no respondieron cuál es su condición de actividad? Guarden como una base distinta llamada respondieron las observaciones donde respondieron la pregunta sobre su ingreso total familiar (ITF). Las observaciones con ITF=0 guárdenlas en una base bajo el nombre norespondieron."
   ]
  },
  {
   "cell_type": "markdown",
   "id": "4b17c6f5",
   "metadata": {},
   "source": [
    "Utilizando el archivo tabla_adulto_equiv.xlsx, agreguen a su base de datos una columna llamada adulto_equiv que contenga los valores de adulto equivalente de cada persona según su sexo y edad (por ejemplo, a un varón de 2 años le corresponde 0.46). Finalmente, con el comando groupby sumen esta nueva columna para las personas que pertenecen a un mismo hogar y guarden ese dato en una columna llamada ad_equiv_hogar .\n"
   ]
  },
  {
   "cell_type": "markdown",
   "id": "193c9e8f",
   "metadata": {},
   "source": [
    "Sabiendo que la Canasta Básica Total para un adulto equivalente en el primer trimestre de 2025 es aproximadamente $365.177, agreguen a la base respondieron una columna llamada ingreso_necesario que sea el producto de este valor por ad_equiv_hogar. Para el primer trimestre de 2005 la Canasta Básica Total para un adulto equivalente era aproximadamente $205,07. Note que este es el valor mínimo que necesita ese hogar para no ser pobre.\n"
   ]
  },
  {
   "cell_type": "markdown",
   "id": "35271a02",
   "metadata": {},
   "source": [
    "Por último, agreguen a respondieron una columna llamada pobre que tome valor 1 si el ITF es menor al ingreso necesario que necesita esa familia, y 0 en caso contrario. ¿Cuántos pobres identificaron para cada año? ¿Qué porcentaje de la muestra representa?"
   ]
  },
  {
   "cell_type": "markdown",
   "id": "af1f1432",
   "metadata": {},
   "source": [
    "(Opcional) Muestren estadísticas descriptivas relevantes de pobre en una tabla, comparando 2005 con 2025. Además, hagan 2 gráficos exploratorios a elección usando la variable pobre. Comenten. tulo\n"
   ]
  }
 ],
 "metadata": {
  "kernelspec": {
   "display_name": ".venv",
   "language": "python",
   "name": "python3"
  },
  "language_info": {
   "codemirror_mode": {
    "name": "ipython",
    "version": 3
   },
   "file_extension": ".py",
   "mimetype": "text/x-python",
   "name": "python",
   "nbconvert_exporter": "python",
   "pygments_lexer": "ipython3",
   "version": "3.13.5"
  }
 },
 "nbformat": 4,
 "nbformat_minor": 5
}
